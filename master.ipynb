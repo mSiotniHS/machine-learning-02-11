{
 "cells": [
  {
   "cell_type": "markdown",
   "metadata": {},
   "source": [
    "# Классификация кредитных рейтингов\n",
    "\n",
    "## Словесное описание задачи\n",
    "\n",
    "На основе сведений о клиенте банка требуется определить его кредитный рейтинг. Предоставленные данные:\n",
    "- `ID`: уникальный идентификатор записи\n",
    "- `Customer_ID`: уникальный идентификатор клиента\n",
    "- `Month`: месяц года, в рамках которого рассматриваются данные\n",
    "- `Name`: имя клиента\n",
    "- `Age`: возраст клиента\n",
    "- `SSN`: номер социального страхования (social security number)\n",
    "- `Occupation`: род деятельности\n",
    "- `Annual_Income`: годовой доход\n",
    "- `Monthly_Inhand_Salary`: ежемесячный доход\n",
    "- `Num_Bank_Accounts`: число открытых банковских счетов клиента\n",
    "- `Num_Credit_Card`: число других (взятых в других банках) кредитных карт клиента\n",
    "- `Interest_Rate`: процентная ставка по кредитной карте\n",
    "- `Num_of_Loan`: число взятых кредитов\n",
    "- `Type_of_Loan`: типы взятых кредитов\n",
    "- `Delay_from_due_date`: среднее число дней, через которые выплачивался просроченный платеж\n",
    "- `Num_of_Delayed_Payment`: среднее число просроченных платежей\n",
    "- `Changed_Credit_Limit`: процентное изменение лимита по кредитной карте\n",
    "- `Num_Credit_Inquiries`: число запросов кредитного рейтинга\n",
    "- `Credit_Mix`: оценка сбалансированности кредитных обязательств клиента\n",
    "- `Outstanding_Debt`: остаток долга к уплате\n",
    "- `Credit_Utilization_Ratio`: доля использованного баланса на кредитной карте\n",
    "- `Credit_History_Age`: срок ведения кредитной истории\n",
    "- `Payment_of_Min_Amount`: был ли выплачен только минимальный платёж по кредитной карте\n",
    "- `Total_EMI_per_month`: ежемесячный платёж\n",
    "- `Amount_invested_monthly`: сумма денег, ежемесячно инвестируемая\n",
    "- `Payment_Behaviour`: характер платежей клиента\n",
    "- `Monthly_Balance`: остаток денег на счетах клиента"
   ]
  },
  {
   "cell_type": "markdown",
   "metadata": {},
   "source": [
    "## Чтение данных\n",
    "\n",
    "Установим и импортируем необходимые для работы библиотеки."
   ]
  },
  {
   "cell_type": "code",
   "execution_count": null,
   "metadata": {},
   "outputs": [],
   "source": [
    "%pip install numpy matplotlib pandas scipy scikit-learn seaborn"
   ]
  },
  {
   "cell_type": "code",
   "execution_count": null,
   "metadata": {},
   "outputs": [],
   "source": [
    "import numpy as np\n",
    "import matplotlib.pyplot as plt\n",
    "import pandas as pd\n",
    "import scipy.stats as stats\n",
    "from sklearn.model_selection import KFold\n",
    "import seaborn as sns\n",
    "%matplotlib inline"
   ]
  },
  {
   "cell_type": "code",
   "execution_count": null,
   "metadata": {},
   "outputs": [],
   "source": [
    "df = pd.read_csv('./train.csv')\n",
    "df.head()"
   ]
  },
  {
   "cell_type": "markdown",
   "metadata": {},
   "source": [
    "## Визуализация данных и основные характеристики"
   ]
  },
  {
   "cell_type": "code",
   "execution_count": null,
   "metadata": {},
   "outputs": [],
   "source": [
    "df.describe().T"
   ]
  },
  {
   "cell_type": "code",
   "execution_count": null,
   "metadata": {},
   "outputs": [],
   "source": [
    "from pandas.plotting import scatter_matrix\n",
    "scatter_matrix(df, alpha=0.01, figsize=(16, 10))\n",
    "pass"
   ]
  },
  {
   "cell_type": "markdown",
   "metadata": {},
   "source": [
    "## Обработка пропущенных значений и выбросов"
   ]
  },
  {
   "cell_type": "code",
   "execution_count": null,
   "metadata": {},
   "outputs": [],
   "source": [
    "df.isnull().sum()"
   ]
  },
  {
   "cell_type": "markdown",
   "metadata": {},
   "source": [
    "Особенностью рассматриваемого датасета является характер содержащихся в нём данных: информация о всяком клиенте предоставлена по каждому месяцу, с января по август. Это позволяет более разумно заполнять пропущенные значения или исправлять выбросы --- средние значения и моды будут браться не по всей выборке, а по каждому из клиентов."
   ]
  },
  {
   "cell_type": "code",
   "execution_count": null,
   "metadata": {},
   "outputs": [],
   "source": [
    "df_clean = df.copy()"
   ]
  },
  {
   "cell_type": "markdown",
   "metadata": {},
   "source": [
    "### Вспомогательные функции"
   ]
  },
  {
   "cell_type": "code",
   "execution_count": null,
   "metadata": {},
   "outputs": [],
   "source": [
    "def get_group_min_max(df, groupby, column):\n",
    "    \"\"\"\n",
    "    Группирует предоставленный df по groupby, затем находит\n",
    "    во всякой группе моду, а затем возвращает наименьшее и\n",
    "    наибольшее значение мод. Используется для оценки истинных\n",
    "    границ значений по столбцу.\n",
    "    \"\"\"\n",
    "\n",
    "    cur = df[df[column].notna()].groupby(groupby)[column].apply(list)\n",
    "    x, y = cur.apply(lambda x: stats.mode(x)).apply([min, max])\n",
    "    return x[0], y[0]\n",
    "\n",
    "\n",
    "def age_to_months(string):\n",
    "    \"\"\"\n",
    "    Переводит словесное описание периода времени (лет + месяцев) в\n",
    "    эквивалентное численное значение месяцев\n",
    "    \"\"\"\n",
    "\n",
    "    if pd.isna(string):\n",
    "        return pd.NA\n",
    "    years, months = map(int, [string.split()[0], string.split()[-2]])\n",
    "    return years * 12 + months"
   ]
  },
  {
   "cell_type": "markdown",
   "metadata": {},
   "source": [
    "### Нерелевантные столбцы\n",
    "\n",
    "Из выборки удалены столбцы \"ID\", \"Name\" и \"SSN\", так как они не представляют никакой ценности в расчётах кредитного рейтинга."
   ]
  },
  {
   "cell_type": "code",
   "execution_count": null,
   "metadata": {},
   "outputs": [],
   "source": [
    "df_clean = df_clean.drop(columns=[\"ID\", \"Name\", \"SSN\"])"
   ]
  },
  {
   "cell_type": "markdown",
   "metadata": {},
   "source": [
    "### `Age`"
   ]
  },
  {
   "cell_type": "code",
   "execution_count": null,
   "metadata": {},
   "outputs": [],
   "source": [
    "df_clean['Age'] = df_clean['Age'].str.rstrip('_').astype('int64')\n",
    "mini, maxi = get_group_min_max(df_clean, 'Customer_ID', 'Age')\n",
    "df_clean['Age'] = df_clean['Age'].transform(lambda x: x if mini - 1 <= x <= maxi + 1 else pd.NA)\n",
    "df_clean['Age'] = df_clean.groupby('Customer_ID')['Age'].transform(lambda x: x.fillna(x.mode()[0]))"
   ]
  },
  {
   "cell_type": "markdown",
   "metadata": {},
   "source": [
    "### `Occupation`"
   ]
  },
  {
   "cell_type": "code",
   "execution_count": null,
   "metadata": {},
   "outputs": [],
   "source": [
    "df_clean['Occupation'] = df_clean['Occupation'].replace('_______', pd.NA)\n",
    "df_clean['Occupation'] = df_clean.groupby('Customer_ID')['Occupation'].transform(lambda x: x.fillna(x.mode()[0]))"
   ]
  },
  {
   "cell_type": "markdown",
   "metadata": {},
   "source": [
    "### `Annual_Income`"
   ]
  },
  {
   "cell_type": "code",
   "execution_count": null,
   "metadata": {},
   "outputs": [],
   "source": [
    "df_clean['Annual_Income'] = df_clean['Annual_Income'].str.rstrip('_').astype('float64')\n",
    "median = df_clean['Annual_Income'].median()\n",
    "mad = np.median(np.abs(df_clean['Annual_Income'] - median))\n",
    "z_scores = 0.6745 * (df_clean['Annual_Income'] - median) / mad\n",
    "outliers = np.abs(z_scores) > 5\n",
    "def replace_outliers(x):\n",
    "    m = x[~outliers[x.index]].mean()\n",
    "    x.loc[outliers[x.index]] = m\n",
    "    return x\n",
    "df_clean['Annual_Income'] = df_clean.groupby('Customer_ID')['Annual_Income'].transform(replace_outliers)"
   ]
  },
  {
   "cell_type": "markdown",
   "metadata": {},
   "source": [
    "### `Monthly_Inhand_Salary`"
   ]
  },
  {
   "cell_type": "code",
   "execution_count": null,
   "metadata": {},
   "outputs": [],
   "source": [
    "df_clean['Monthly_Inhand_Salary'] = df_clean.groupby('Customer_ID')['Monthly_Inhand_Salary'].transform(lambda x: x.fillna(x.mean()))"
   ]
  },
  {
   "cell_type": "markdown",
   "metadata": {},
   "source": [
    "### `Num_Bank_Accounts`"
   ]
  },
  {
   "cell_type": "code",
   "execution_count": null,
   "metadata": {},
   "outputs": [],
   "source": [
    "mini, maxi = get_group_min_max(df_clean, 'Customer_ID', 'Num_Bank_Accounts')\n",
    "df_clean['Num_Bank_Accounts'] = df_clean['Num_Bank_Accounts'].transform(lambda x: x if mini - 1 <= x <= maxi + 1 else pd.NA)\n",
    "df_clean['Num_Bank_Accounts'] = df_clean.groupby('Customer_ID')['Num_Bank_Accounts'].transform(lambda x: x.fillna(x.mode()[0]))"
   ]
  },
  {
   "cell_type": "markdown",
   "metadata": {},
   "source": [
    "### `Num_Credit_Card`"
   ]
  },
  {
   "cell_type": "code",
   "execution_count": null,
   "metadata": {},
   "outputs": [],
   "source": [
    "mini, maxi = get_group_min_max(df_clean, 'Customer_ID', 'Num_Credit_Card')\n",
    "df_clean['Num_Credit_Card'] = df_clean['Num_Credit_Card'].transform(lambda x: x if mini - 1 <= x <= maxi + 1 else pd.NA)\n",
    "df_clean['Num_Credit_Card'] = df_clean.groupby('Customer_ID')['Num_Credit_Card'].transform(lambda x: x.fillna(x.mode()[0]))"
   ]
  },
  {
   "cell_type": "markdown",
   "metadata": {},
   "source": [
    "### `Interest_Rate`"
   ]
  },
  {
   "cell_type": "code",
   "execution_count": null,
   "metadata": {},
   "outputs": [],
   "source": [
    "mini, maxi = get_group_min_max(df_clean, 'Customer_ID', 'Interest_Rate')\n",
    "df_clean['Interest_Rate'] = df_clean['Interest_Rate'].transform(lambda x: x if mini - 1 <= x <= maxi + 1 else pd.NA)\n",
    "df_clean['Interest_Rate'] = df_clean.groupby('Customer_ID')['Interest_Rate'].transform(lambda x: x.fillna(x.mode()[0]))"
   ]
  },
  {
   "cell_type": "markdown",
   "metadata": {},
   "source": [
    "### `Num_of_Loan`"
   ]
  },
  {
   "cell_type": "code",
   "execution_count": null,
   "metadata": {},
   "outputs": [],
   "source": [
    "df_clean['Num_of_Loan'] = df_clean['Num_of_Loan'].str.rstrip('_').astype('int64')\n",
    "mini, maxi = get_group_min_max(df_clean, 'Customer_ID', 'Num_of_Loan')\n",
    "df_clean['Num_of_Loan'] = df_clean['Num_of_Loan'].transform(lambda x: x if mini - 1 <= x <= maxi + 1 else pd.NA)\n",
    "df_clean['Num_of_Loan'] = df_clean.groupby('Customer_ID')['Num_of_Loan'].transform(lambda x: x.fillna(x.mode()[0]))"
   ]
  },
  {
   "cell_type": "markdown",
   "metadata": {},
   "source": [
    "### `Num_of_Delayed_Payment`"
   ]
  },
  {
   "cell_type": "code",
   "execution_count": null,
   "metadata": {},
   "outputs": [],
   "source": [
    "df_clean['Num_of_Delayed_Payment'] = df_clean['Num_of_Delayed_Payment'].str.rstrip('_')\n",
    "df_clean['Num_of_Delayed_Payment'] = df_clean.groupby('Customer_ID')['Num_of_Delayed_Payment'].transform(lambda x: x.fillna(x.mode()[0])).astype('int64')\n",
    "mini, maxi = get_group_min_max(df_clean, 'Customer_ID', 'Num_of_Delayed_Payment')\n",
    "df_clean['Num_of_Delayed_Payment'] = df_clean['Num_of_Delayed_Payment'].transform(lambda x: x if mini - 1 <= x <= maxi + 1 else pd.NA)\n",
    "df_clean['Num_of_Delayed_Payment'] = df_clean.groupby('Customer_ID')['Num_of_Delayed_Payment'].transform(lambda x: x.fillna(x.mode()[0]))"
   ]
  },
  {
   "cell_type": "markdown",
   "metadata": {},
   "source": [
    "### `Changed_Credit_Limit`"
   ]
  },
  {
   "cell_type": "code",
   "execution_count": null,
   "metadata": {},
   "outputs": [],
   "source": [
    "df_clean['Changed_Credit_Limit'] = pd.to_numeric(df_clean['Changed_Credit_Limit'], errors='coerce')\n",
    "df_clean['Changed_Credit_Limit'] = df_clean.groupby('Customer_ID')['Changed_Credit_Limit'].transform(lambda x: x.fillna(x.mean()))"
   ]
  },
  {
   "cell_type": "markdown",
   "metadata": {},
   "source": [
    "### `Num_Credit_Inquiries`"
   ]
  },
  {
   "cell_type": "code",
   "execution_count": null,
   "metadata": {},
   "outputs": [],
   "source": [
    "df_clean['Num_Credit_Inquiries'] = df_clean.groupby('Customer_ID')['Num_Credit_Inquiries'].transform(lambda x: x.fillna(x.mode()[0])).astype('int64')\n",
    "mini, maxi = get_group_min_max(df_clean, 'Customer_ID', 'Num_Credit_Inquiries')\n",
    "df_clean['Num_Credit_Inquiries'] = df_clean['Num_Credit_Inquiries'].transform(lambda x: x if mini - 1 <= x <= maxi + 1 else pd.NA)\n",
    "df_clean['Num_Credit_Inquiries'] = df_clean.groupby('Customer_ID')['Num_Credit_Inquiries'].transform(lambda x: x.fillna(x.mode()[0]))"
   ]
  },
  {
   "cell_type": "markdown",
   "metadata": {},
   "source": [
    "### `Credit_Mix`"
   ]
  },
  {
   "cell_type": "code",
   "execution_count": null,
   "metadata": {},
   "outputs": [],
   "source": [
    "df_clean['Credit_Mix'] = df_clean['Credit_Mix'].transform(lambda x: pd.NA if x == '_' else x)\n",
    "df_clean['Credit_Mix'] = df_clean.groupby('Customer_ID')['Credit_Mix'].transform(lambda x: x.fillna(x.mode()[0]))"
   ]
  },
  {
   "cell_type": "markdown",
   "metadata": {},
   "source": [
    "### `Outstanding_Debt`"
   ]
  },
  {
   "cell_type": "code",
   "execution_count": null,
   "metadata": {},
   "outputs": [],
   "source": [
    "df_clean['Outstanding_Debt'] = df_clean['Outstanding_Debt'].str.rstrip('_').astype('float64')"
   ]
  },
  {
   "cell_type": "markdown",
   "metadata": {},
   "source": [
    "### `Total_EMI_per_month`"
   ]
  },
  {
   "cell_type": "code",
   "execution_count": null,
   "metadata": {},
   "outputs": [],
   "source": [
    "mini, maxi = get_group_min_max(df_clean, 'Customer_ID', 'Total_EMI_per_month')\n",
    "df_clean['Total_EMI_per_month'] = df_clean['Total_EMI_per_month'].transform(lambda x: x if mini - 1 <= x <= maxi + 1 else pd.NA)\n",
    "df_clean['Total_EMI_per_month'] = df_clean.groupby('Customer_ID')['Total_EMI_per_month'].transform(lambda x: x.fillna(x.mean()))"
   ]
  },
  {
   "cell_type": "markdown",
   "metadata": {},
   "source": [
    "### `Amount_invested_monthly`"
   ]
  },
  {
   "cell_type": "code",
   "execution_count": null,
   "metadata": {},
   "outputs": [],
   "source": [
    "df_clean['Amount_invested_monthly'] = pd.to_numeric(df_clean['Amount_invested_monthly'], errors='coerce')\n",
    "df_clean['Amount_invested_monthly'] = df_clean.groupby('Customer_ID')['Amount_invested_monthly'].transform(lambda x: x.fillna(x.mean()))"
   ]
  },
  {
   "cell_type": "markdown",
   "metadata": {},
   "source": [
    "### `Monthly_Balance`"
   ]
  },
  {
   "cell_type": "code",
   "execution_count": null,
   "metadata": {},
   "outputs": [],
   "source": [
    "df_clean['Monthly_Balance'] = pd.to_numeric(df_clean['Monthly_Balance'], errors='coerce')\n",
    "df_clean['Monthly_Balance'] = df_clean.groupby('Customer_ID')['Monthly_Balance'].transform(lambda x: x.fillna(x.mean()))"
   ]
  },
  {
   "cell_type": "markdown",
   "metadata": {},
   "source": [
    "### `Payment_Behaviour`"
   ]
  },
  {
   "cell_type": "code",
   "execution_count": null,
   "metadata": {},
   "outputs": [],
   "source": [
    "df_clean['Payment_Behaviour'] = df_clean['Payment_Behaviour'].transform(lambda x: pd.NA if x == '!@9#%8' else x)\n",
    "df_clean['Payment_Behaviour'] = df_clean.groupby('Customer_ID')['Payment_Behaviour'].transform(lambda x: x.fillna(x.mode()[0]))"
   ]
  },
  {
   "cell_type": "markdown",
   "metadata": {},
   "source": [
    "### `Credit_History_Age`"
   ]
  },
  {
   "cell_type": "code",
   "execution_count": null,
   "metadata": {},
   "outputs": [],
   "source": [
    "df_clean['Credit_History_Age'] = pd.to_numeric(df_clean['Credit_History_Age'].transform(age_to_months), errors='coerce')\n",
    "df_clean['Credit_History_Age'] = df_clean.groupby('Customer_ID')['Credit_History_Age'].transform(lambda x: x.interpolate('linear', limit_direction='both').round())"
   ]
  },
  {
   "cell_type": "markdown",
   "metadata": {},
   "source": [
    "### `Type_of_Loan`"
   ]
  },
  {
   "cell_type": "code",
   "execution_count": null,
   "metadata": {},
   "outputs": [],
   "source": [
    "df_clean['Type_of_Loan'] = df_clean['Type_of_Loan'].apply(lambda x: x.lower().replace('and ', '').replace(', ', ',').strip() if pd.notna(x) else x)\n",
    "df_clean['Type_of_Loan'] = df_clean['Type_of_Loan'].replace([pd.NA], 'no loan')"
   ]
  },
  {
   "cell_type": "markdown",
   "metadata": {},
   "source": [
    "### Итого\n",
    "\n",
    "После обработки значений столбец `Customer_ID` может быть убран, так как никакой ценности для решения задачи он не несёт."
   ]
  },
  {
   "cell_type": "code",
   "execution_count": null,
   "metadata": {},
   "outputs": [],
   "source": [
    "df_clean = df_clean.drop(columns=[\"Customer_ID\"])"
   ]
  },
  {
   "cell_type": "code",
   "execution_count": null,
   "metadata": {},
   "outputs": [],
   "source": [
    "df_clean.head()"
   ]
  },
  {
   "cell_type": "code",
   "execution_count": null,
   "metadata": {},
   "outputs": [],
   "source": [
    "df_clean.describe().T"
   ]
  },
  {
   "cell_type": "code",
   "execution_count": null,
   "metadata": {},
   "outputs": [],
   "source": [
    "plt.figure(figsize=(16, 10))\n",
    "sns.heatmap(df_clean.corr(numeric_only=True), square=True, annot=True, cmap=\"PiYG\")"
   ]
  },
  {
   "cell_type": "markdown",
   "metadata": {},
   "source": [
    "## Нормализация"
   ]
  },
  {
   "cell_type": "code",
   "execution_count": null,
   "metadata": {},
   "outputs": [],
   "source": [
    "df_numeric = df_clean.copy()"
   ]
  },
  {
   "cell_type": "code",
   "execution_count": null,
   "metadata": {},
   "outputs": [],
   "source": [
    "numeric_columns = df_numeric.select_dtypes(include=['int', 'float']).columns.to_list()\n",
    "for column in numeric_columns:\n",
    "    df_numeric[column] = (df_numeric[column] - df_numeric[column].mean()) / df_numeric[column].std()"
   ]
  },
  {
   "cell_type": "markdown",
   "metadata": {},
   "source": [
    "## Обработка категориальных признаков"
   ]
  },
  {
   "cell_type": "markdown",
   "metadata": {},
   "source": [
    "### `Month`"
   ]
  },
  {
   "cell_type": "code",
   "execution_count": null,
   "metadata": {},
   "outputs": [],
   "source": [
    "df_numeric.groupby('Month').size()"
   ]
  },
  {
   "cell_type": "code",
   "execution_count": null,
   "metadata": {},
   "outputs": [],
   "source": [
    "df_numeric = df_numeric.replace(\n",
    "    {\n",
    "        'Month': {\n",
    "            'January': 0,\n",
    "            'February': 1,\n",
    "            'March': 2,\n",
    "            'April': 3,\n",
    "            'May': 4,\n",
    "            'June': 5,\n",
    "            'July': 6,\n",
    "            'August': 7,\n",
    "        }\n",
    "    }\n",
    ")\n",
    "df_numeric['Month'] = (df_numeric['Month'] - df_numeric['Month'].mean()) / df_numeric['Month'].std()"
   ]
  },
  {
   "cell_type": "markdown",
   "metadata": {},
   "source": [
    "### `Credit_Score`"
   ]
  },
  {
   "cell_type": "code",
   "execution_count": null,
   "metadata": {},
   "outputs": [],
   "source": [
    "df_numeric.groupby('Credit_Score').size()"
   ]
  },
  {
   "cell_type": "code",
   "execution_count": null,
   "metadata": {},
   "outputs": [],
   "source": [
    "df_numeric = df_numeric.replace(\n",
    "    {\n",
    "        'Credit_Score': {\n",
    "            'Poor': 0,\n",
    "            'Standard': 1,\n",
    "            'Good': 2,\n",
    "        }\n",
    "    }\n",
    ")"
   ]
  },
  {
   "cell_type": "markdown",
   "metadata": {},
   "source": [
    "### `Occupation`"
   ]
  },
  {
   "cell_type": "code",
   "execution_count": null,
   "metadata": {},
   "outputs": [],
   "source": [
    "df_numeric.groupby('Occupation').size()"
   ]
  },
  {
   "cell_type": "code",
   "execution_count": null,
   "metadata": {},
   "outputs": [],
   "source": [
    "kf = KFold(n_splits=5, shuffle=True, random_state=42)\n",
    "df_numeric['Occupation_enc'] = 0\n",
    "\n",
    "for train_idx, valid_idx in kf.split(df_numeric):\n",
    "    train, valid = df_numeric.iloc[train_idx], df_numeric.iloc[valid_idx]\n",
    "    means = train.groupby('Occupation')['Credit_Score'].mean()\n",
    "    df_numeric.loc[valid_idx, 'Occupation_enc'] = valid['Occupation'].map(means).fillna(df_numeric['Credit_Score'].mean())\n",
    "\n",
    "df_numeric['Occupation_enc'] += np.random.normal(0, 0.001, df_numeric['Occupation_enc'].shape)\n",
    "df_numeric['Occupation'] = df_numeric['Occupation_enc']\n",
    "df_numeric = df_numeric.drop(columns=['Occupation_enc'])"
   ]
  },
  {
   "cell_type": "markdown",
   "metadata": {},
   "source": [
    "### `Type_of_Loan`"
   ]
  },
  {
   "cell_type": "code",
   "execution_count": null,
   "metadata": {},
   "outputs": [],
   "source": [
    "df_numeric.groupby('Type_of_Loan').size()"
   ]
  },
  {
   "cell_type": "code",
   "execution_count": null,
   "metadata": {},
   "outputs": [],
   "source": [
    "loan_types = set()\n",
    "df_numeric['Type_of_Loan'].str.split(',').apply(loan_types.update)\n",
    "\n",
    "for loan in loan_types:\n",
    "    df_numeric[loan.replace(' ', '_')] = df_numeric['Type_of_Loan'].transform(lambda x: 1 if loan in x.split(',') else 0)\n",
    "\n",
    "df_numeric = df_numeric.drop(columns=['Type_of_Loan'])"
   ]
  },
  {
   "cell_type": "markdown",
   "metadata": {},
   "source": [
    "### `Credit_Mix`"
   ]
  },
  {
   "cell_type": "code",
   "execution_count": null,
   "metadata": {},
   "outputs": [],
   "source": [
    "df_numeric.groupby('Credit_Mix').size()"
   ]
  },
  {
   "cell_type": "code",
   "execution_count": null,
   "metadata": {},
   "outputs": [],
   "source": [
    "df_numeric = df_numeric.replace(\n",
    "    {\n",
    "        'Credit_Mix': {\n",
    "            'Bad': 0,\n",
    "            'Standard': 1,\n",
    "            'Good': 2,\n",
    "        }\n",
    "    }\n",
    ")"
   ]
  },
  {
   "cell_type": "markdown",
   "metadata": {},
   "source": [
    "### `Payment_of_Min_Amount`"
   ]
  },
  {
   "cell_type": "code",
   "execution_count": null,
   "metadata": {},
   "outputs": [],
   "source": [
    "df_numeric.groupby('Payment_of_Min_Amount').size()"
   ]
  },
  {
   "cell_type": "code",
   "execution_count": null,
   "metadata": {},
   "outputs": [],
   "source": [
    "df_numeric = df_numeric.replace(\n",
    "    {\n",
    "        'Payment_of_Min_Amount': {\n",
    "            'No': 0,\n",
    "            'NM': 1,\n",
    "            'Yes': 2,\n",
    "        }\n",
    "    }\n",
    ")"
   ]
  },
  {
   "cell_type": "markdown",
   "metadata": {},
   "source": [
    "### `Payment_Behaviour`"
   ]
  },
  {
   "cell_type": "code",
   "execution_count": null,
   "metadata": {},
   "outputs": [],
   "source": [
    "df_numeric.groupby('Payment_Behaviour').size()"
   ]
  },
  {
   "cell_type": "code",
   "execution_count": null,
   "metadata": {},
   "outputs": [],
   "source": [
    "split = df_numeric['Payment_Behaviour'].str.split('_', expand=True)\n",
    "df_numeric['Payment_Behaviour_Spent'] = split[0]\n",
    "df_numeric['Payment_Behaviour_Payments'] = split[2]\n",
    "\n",
    "df_numeric = df_numeric.replace(\n",
    "    {\n",
    "        'Payment_Behaviour_Spent': {\n",
    "            'Low': 0,\n",
    "            'High': 1,\n",
    "        },\n",
    "        'Payment_Behaviour_Payments': {\n",
    "            'Small': 0,\n",
    "            'Medium': 1,\n",
    "            'Large': 2,\n",
    "        }\n",
    "    }\n",
    ")\n",
    "df_numeric = df_numeric.drop(columns=['Payment_Behaviour'])"
   ]
  },
  {
   "cell_type": "markdown",
   "metadata": {},
   "source": [
    "## Разбиение на обучающую и тестовую выборки"
   ]
  },
  {
   "cell_type": "code",
   "execution_count": null,
   "metadata": {},
   "outputs": [],
   "source": [
    "from sklearn.model_selection import train_test_split\n",
    "\n",
    "X = df_numeric.drop('Credit_Score', axis=1).to_numpy()\n",
    "y = df_numeric['Credit_Score'].to_numpy()\n",
    "\n",
    "X_train, X_test, y_train, y_test = train_test_split(X, y, test_size=0.25, random_state=42)"
   ]
  },
  {
   "cell_type": "markdown",
   "metadata": {},
   "source": [
    "## Обучение"
   ]
  },
  {
   "cell_type": "markdown",
   "metadata": {},
   "source": [
    "### kNN"
   ]
  },
  {
   "cell_type": "code",
   "execution_count": null,
   "metadata": {},
   "outputs": [],
   "source": [
    "from sklearn.neighbors import KNeighborsClassifier\n",
    "knn = KNeighborsClassifier(n_neighbors=8)\n",
    "knn.fit(X_train, y_train)\n",
    "knn_y_pred = knn.predict(X_test)"
   ]
  },
  {
   "cell_type": "code",
   "execution_count": null,
   "metadata": {},
   "outputs": [],
   "source": [
    "from sklearn.metrics import classification_report, confusion_matrix\n",
    "print(classification_report(y_test, knn_y_pred))"
   ]
  },
  {
   "cell_type": "code",
   "execution_count": null,
   "metadata": {},
   "outputs": [],
   "source": [
    "print(confusion_matrix(y_test, knn_y_pred))"
   ]
  },
  {
   "cell_type": "markdown",
   "metadata": {},
   "source": [
    "Ошибки на обучающей и тестовой выборках:"
   ]
  },
  {
   "cell_type": "code",
   "execution_count": null,
   "metadata": {},
   "outputs": [],
   "source": [
    "print(f'Обучающая: {1 - knn.score(X_train, y_train)}')\n",
    "print(f'Тестовая: {1 - knn.score(X_test, y_test)}')"
   ]
  },
  {
   "cell_type": "markdown",
   "metadata": {},
   "source": [
    "#### Подбор оптимального `k`"
   ]
  },
  {
   "cell_type": "code",
   "execution_count": null,
   "metadata": {},
   "outputs": [],
   "source": [
    "from sklearn.model_selection import cross_val_score\n",
    "\n",
    "k_values = list(range(1, 21))\n",
    "cv_scores = [ cross_val_score(KNeighborsClassifier(n_neighbors=k), X_train, y_train, scoring='accuracy').mean() for k in k_values ]\n",
    "\n",
    "plt.plot(k_values, cv_scores, marker='o')\n",
    "plt.xlabel('Значение k')\n",
    "plt.ylabel('Кросс-валидация, точность')\n",
    "plt.title('Выбор k')\n",
    "plt.show()"
   ]
  },
  {
   "cell_type": "markdown",
   "metadata": {},
   "source": [
    "Рассмотрим работу при $k = 3$:"
   ]
  },
  {
   "cell_type": "code",
   "execution_count": null,
   "metadata": {},
   "outputs": [],
   "source": [
    "opt_knn = KNeighborsClassifier(n_neighbors=3)\n",
    "opt_knn.fit(X_train, y_train)\n",
    "opt_knn_y_pred = opt_knn.predict(X_test)"
   ]
  },
  {
   "cell_type": "code",
   "execution_count": null,
   "metadata": {},
   "outputs": [],
   "source": [
    "print(classification_report(y_test, opt_knn_y_pred))"
   ]
  },
  {
   "cell_type": "code",
   "execution_count": null,
   "metadata": {},
   "outputs": [],
   "source": [
    "print(confusion_matrix(y_test, opt_knn_y_pred))"
   ]
  },
  {
   "cell_type": "markdown",
   "metadata": {},
   "source": [
    "Ошибки на обучающей и тестовой выборках:"
   ]
  },
  {
   "cell_type": "code",
   "execution_count": null,
   "metadata": {},
   "outputs": [],
   "source": [
    "print(f'Обучающая: {1 - opt_knn.score(X_train, y_train)}')\n",
    "print(f'Тестовая: {1 - opt_knn.score(X_test, y_test)}')"
   ]
  },
  {
   "cell_type": "markdown",
   "metadata": {},
   "source": [
    "### `RandomForestClassifier`"
   ]
  },
  {
   "cell_type": "code",
   "execution_count": null,
   "metadata": {},
   "outputs": [],
   "source": [
    "from sklearn.ensemble import RandomForestClassifier\n",
    "\n",
    "rfc = RandomForestClassifier(random_state=42)\n",
    "rfc.fit(X_train, y_train)\n",
    "rfc_y_pred = rfc.predict(X_test)"
   ]
  },
  {
   "cell_type": "code",
   "execution_count": null,
   "metadata": {},
   "outputs": [],
   "source": [
    "print(classification_report(y_test, rfc_y_pred))"
   ]
  },
  {
   "cell_type": "code",
   "execution_count": null,
   "metadata": {},
   "outputs": [],
   "source": [
    "print(confusion_matrix(y_test, rfc_y_pred))"
   ]
  },
  {
   "cell_type": "markdown",
   "metadata": {},
   "source": [
    "Ошибки на обучающей и тестовой выборках:"
   ]
  },
  {
   "cell_type": "code",
   "execution_count": null,
   "metadata": {},
   "outputs": [],
   "source": [
    "print(f'Обучающая: {1 - rfc.score(X_train, y_train)}')\n",
    "print(f'Тестовая: {1 - rfc.score(X_test, y_test)}')"
   ]
  },
  {
   "cell_type": "markdown",
   "metadata": {},
   "source": [
    "### `GradientBoostingClassifier`"
   ]
  },
  {
   "cell_type": "code",
   "execution_count": null,
   "metadata": {},
   "outputs": [],
   "source": [
    "from sklearn.ensemble import GradientBoostingClassifier\n",
    "\n",
    "gbc = GradientBoostingClassifier(random_state=42)\n",
    "gbc.fit(X_train, y_train)\n",
    "gbc_y_pred = gbc.predict(X_test)"
   ]
  },
  {
   "cell_type": "code",
   "execution_count": null,
   "metadata": {},
   "outputs": [],
   "source": [
    "print(classification_report(y_test, gbc_y_pred))\n",
    "print(confusion_matrix(y_test, gbc_y_pred))"
   ]
  },
  {
   "cell_type": "markdown",
   "metadata": {},
   "source": [
    "Ошибки на обучающей и тестовой выборках:"
   ]
  },
  {
   "cell_type": "code",
   "execution_count": null,
   "metadata": {},
   "outputs": [],
   "source": [
    "print(f'Обучающая: {1 - gbc.score(X_train, y_train)}')\n",
    "print(f'Тестовая: {1 - gbc.score(X_test, y_test)}')"
   ]
  },
  {
   "cell_type": "markdown",
   "metadata": {},
   "source": [
    "## Выводы\n",
    "\n",
    "По результатам работы наилучшей точности удалось добиться при использовании `RandomForestClassifier`, со значением $0.82$.\n",
    "\n",
    "Выбор $k = 3$ в методе kNN даёт баланс точности работы и обобщённости модели, позволяя достичь точности $0.75$.\n",
    "\n",
    "Метод `GradientBoostingClassifier` показал наихудший результат точности со значением $0.71$."
   ]
  }
 ],
 "metadata": {
  "kernelspec": {
   "display_name": ".venv",
   "language": "python",
   "name": "python3"
  },
  "language_info": {
   "codemirror_mode": {
    "name": "ipython",
    "version": 3
   },
   "file_extension": ".py",
   "mimetype": "text/x-python",
   "name": "python",
   "nbconvert_exporter": "python",
   "pygments_lexer": "ipython3",
   "version": "3.13.0"
  }
 },
 "nbformat": 4,
 "nbformat_minor": 2
}
